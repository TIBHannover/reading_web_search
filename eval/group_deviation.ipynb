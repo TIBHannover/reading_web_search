{
 "cells": [
  {
   "cell_type": "code",
   "execution_count": 31,
   "metadata": {},
   "outputs": [],
   "source": [
    "from sklearn.linear_model import LogisticRegression\n",
    "import pandas as pd\n",
    "from scipy.stats import zscore\n",
    "from sklearn.model_selection import RepeatedStratifiedKFold\n",
    "from sklearn.model_selection import GridSearchCV\n",
    "from scipy.stats import mannwhitneyu, ttest_ind"
   ]
  },
  {
   "cell_type": "code",
   "execution_count": 32,
   "metadata": {},
   "outputs": [],
   "source": [
    "def std_classification(df):\n",
    "    temp = zscore(df)\n",
    "    temp = [0 if l<=0.0 else 1 for l in temp.values]\n",
    "    return temp"
   ]
  },
  {
   "cell_type": "code",
   "execution_count": 33,
   "metadata": {},
   "outputs": [],
   "source": [
    "valid_uids = pd.read_csv(\"../out/our_tracking_features.csv\")[[\"uid\"]]\n",
    "\n",
    "mcq_scores = pd.read_csv(\"../data/mcq_scores.tsv\", sep=\"\\t\")\n",
    "mcq_scores = pd.merge(mcq_scores, valid_uids, on=\"uid\", how=\"inner\")\n",
    "mcq_scores[\"mcq_class_kg\"] = mcq_scores[[\"kg\"]].apply(std_classification)\n",
    "mcq_scores[\"mcq_class_pre\"] = mcq_scores[[\"pre\"]].apply(std_classification)\n",
    "mcq_scores[\"mcq_class_post\"] = mcq_scores[[\"post\"]].apply(std_classification)\n",
    "\n",
    "essay_scores = pd.read_csv(\"../data/essay_scores.csv\")\n",
    "essay_scores = pd.merge(essay_scores, valid_uids, on=\"uid\", how=\"inner\")\n",
    "essay_scores[\"essay_class_kg\"] = essay_scores[[\"kg\"]].apply(std_classification)\n",
    "essay_scores[\"essay_class_pre\"] = essay_scores[[\"pre\"]].apply(std_classification)\n",
    "essay_scores[\"essay_class_post\"] = essay_scores[[\"post\"]].apply(std_classification)"
   ]
  },
  {
   "cell_type": "code",
   "execution_count": 42,
   "metadata": {},
   "outputs": [
    {
     "name": "stdout",
     "output_type": "stream",
     "text": [
      "\\begin{tabular}{rrrrrr}\n",
      "\\toprule\n",
      "pre_mcq & post_mcq & kg_mcq & pre_essay & post_essay & kg_essay \\\\\n",
      "\\midrule\n",
      "1.00 & 0.44 & -0.60 & 0.43 & 0.16 & -0.13 \\\\\n",
      "0.44 & 1.00 & 0.46 & 0.26 & 0.32 & 0.13 \\\\\n",
      "-0.60 & 0.46 & 1.00 & -0.19 & 0.12 & 0.24 \\\\\n",
      "0.43 & 0.26 & -0.19 & 1.00 & 0.22 & -0.44 \\\\\n",
      "0.16 & 0.32 & 0.12 & 0.22 & 1.00 & 0.78 \\\\\n",
      "-0.13 & 0.13 & 0.24 & -0.44 & 0.78 & 1.00 \\\\\n",
      "\\bottomrule\n",
      "\\end{tabular}\n",
      "\n"
     ]
    }
   ],
   "source": [
    "import re\n",
    "print(pd.merge(mcq_scores[[\"uid\", \"pre\", \"post\", \"kg\"]], essay_scores[[\"uid\", \"pre\", \"post\", \"kg\"]], on=\"uid\", how=\"inner\").rename(columns=lambda x: re.sub(\"_x\", \"_mcq\", x)).rename(columns=lambda x: re.sub(\"_y\", \"_essay\", x)).drop(columns=[\"uid\"]).corr().round(2).to_latex(index=False, float_format=\"{:.2f}\".format))"
   ]
  },
  {
   "attachments": {},
   "cell_type": "markdown",
   "metadata": {},
   "source": [
    "# Deviation"
   ]
  },
  {
   "cell_type": "code",
   "execution_count": 34,
   "metadata": {},
   "outputs": [
    {
     "name": "stdout",
     "output_type": "stream",
     "text": [
      "   mcq_class_pre  uid\n",
      "0              0   63\n",
      "1              1   43\n",
      "   essay_class_pre  uid\n",
      "0                0   57\n",
      "1                1   49\n",
      "   mcq_class_post  uid\n",
      "0               0   54\n",
      "1               1   52\n",
      "   essay_class_post  uid\n",
      "0                 0   54\n",
      "1                 1   52\n",
      "   mcq_class_kg  uid\n",
      "0             0   66\n",
      "1             1   40\n",
      "   essay_class_kg  uid\n",
      "0               0   46\n",
      "1               1   60\n"
     ]
    }
   ],
   "source": [
    "print(mcq_scores[[\"mcq_class_pre\", \"uid\"]].groupby(\"mcq_class_pre\").count().reset_index())\n",
    "print(essay_scores[[\"essay_class_pre\", \"uid\"]].groupby(\"essay_class_pre\").count().reset_index())\n",
    "print(mcq_scores[[\"mcq_class_post\", \"uid\"]].groupby(\"mcq_class_post\").count().reset_index())\n",
    "print(essay_scores[[\"essay_class_post\", \"uid\"]].groupby(\"essay_class_post\").count().reset_index())\n",
    "print(mcq_scores[[\"mcq_class_kg\", \"uid\"]].groupby(\"mcq_class_kg\").count().reset_index())\n",
    "print(essay_scores[[\"essay_class_kg\", \"uid\"]].groupby(\"essay_class_kg\").count().reset_index())"
   ]
  },
  {
   "cell_type": "code",
   "execution_count": 35,
   "metadata": {},
   "outputs": [
    {
     "data": {
      "text/plain": [
       "mcq_class_pre  essay_class_pre\n",
       "0              0                  42\n",
       "               1                  21\n",
       "1              0                  15\n",
       "               1                  28\n",
       "dtype: int64"
      ]
     },
     "execution_count": 35,
     "metadata": {},
     "output_type": "execute_result"
    }
   ],
   "source": [
    "pd.merge(mcq_scores[[\"uid\", \"mcq_class_pre\"]], essay_scores[[\"uid\", \"essay_class_pre\"]], on=\"uid\", how=\"inner\").pivot_table(index=[\"mcq_class_pre\", \"essay_class_pre\"], aggfunc ='size')"
   ]
  },
  {
   "cell_type": "code",
   "execution_count": 36,
   "metadata": {},
   "outputs": [
    {
     "data": {
      "text/plain": [
       "mcq_class_post  essay_class_post\n",
       "0               0                   30\n",
       "                1                   24\n",
       "1               0                   24\n",
       "                1                   28\n",
       "dtype: int64"
      ]
     },
     "execution_count": 36,
     "metadata": {},
     "output_type": "execute_result"
    }
   ],
   "source": [
    "pd.merge(mcq_scores[[\"uid\", \"mcq_class_post\"]], essay_scores[[\"uid\", \"essay_class_post\"]], on=\"uid\", how=\"inner\").pivot_table(index=[\"mcq_class_post\", \"essay_class_post\"], aggfunc ='size')"
   ]
  },
  {
   "cell_type": "code",
   "execution_count": 37,
   "metadata": {},
   "outputs": [
    {
     "data": {
      "text/plain": [
       "mcq_class_kg  essay_class_kg\n",
       "0             0                 32\n",
       "              1                 34\n",
       "1             0                 14\n",
       "              1                 26\n",
       "dtype: int64"
      ]
     },
     "execution_count": 37,
     "metadata": {},
     "output_type": "execute_result"
    }
   ],
   "source": [
    "pd.merge(mcq_scores[[\"uid\", \"mcq_class_kg\"]], essay_scores[[\"uid\", \"essay_class_kg\"]], on=\"uid\", how=\"inner\").pivot_table(index=[\"mcq_class_kg\", \"essay_class_kg\"], aggfunc ='size')"
   ]
  }
 ],
 "metadata": {
  "kernelspec": {
   "display_name": "eye_tracking_features",
   "language": "python",
   "name": "python3"
  },
  "language_info": {
   "codemirror_mode": {
    "name": "ipython",
    "version": 3
   },
   "file_extension": ".py",
   "mimetype": "text/x-python",
   "name": "python",
   "nbconvert_exporter": "python",
   "pygments_lexer": "ipython3",
   "version": "3.10.11"
  },
  "orig_nbformat": 4
 },
 "nbformat": 4,
 "nbformat_minor": 2
}
